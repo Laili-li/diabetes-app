{
 "cells": [
  {
   "cell_type": "code",
   "execution_count": null,
   "id": "54f52b69",
   "metadata": {},
   "outputs": [
    {
     "name": "stdout",
     "output_type": "stream",
     "text": [
      "📂 Folder kerja sekarang: c:\\Users\\HP\\OneDrive\\Attachments\\Documents\\PROYEK UAS\\Data Mining\\PROYEK UAS\\Data Mining\n",
      "   Pregnancies  Glucose  BloodPressure  SkinThickness  Insulin   BMI  \\\n",
      "0            6      148             72             35        0  33.6   \n",
      "1            1       85             66             29        0  26.6   \n",
      "2            8      183             64              0        0  23.3   \n",
      "3            1       89             66             23       94  28.1   \n",
      "4            0      137             40             35      168  43.1   \n",
      "\n",
      "   DiabetesPedigreeFunction  Age  Outcome  \n",
      "0                     0.627   50        1  \n",
      "1                     0.351   31        0  \n",
      "2                     0.672   32        1  \n",
      "3                     0.167   21        0  \n",
      "4                     2.288   33        1  \n",
      "✅ Semua file model berhasil disimpan.\n"
     ]
    }
   ],
   "source": [
    "import pandas as pd\n",
    "import numpy as np\n",
    "import pickle\n",
    "from sklearn.model_selection import train_test_split\n",
    "from sklearn.preprocessing import StandardScaler\n",
    "from sklearn.neighbors import KNeighborsClassifier\n",
    "from sklearn.metrics import classification_report, confusion_matrix, accuracy_score\n",
    "\n",
    "# Load dataset\n",
    "data = pd.read_csv(\"diabetes.csv\")\n",
    "\n",
    "# Pisahkan fitur dan label\n",
    "X = data.drop(columns=[\"Outcome\"])\n",
    "y = data[\"Outcome\"]\n",
    "\n",
    "# Split data\n",
    "X_train, X_test, y_train, y_test = train_test_split(X, y, test_size=0.3, random_state=42)\n",
    "\n",
    "# Standarisasi\n",
    "scaler = StandardScaler()\n",
    "X_train_scaled = scaler.fit_transform(X_train)\n",
    "X_test_scaled = scaler.transform(X_test)\n",
    "\n",
    "# Model\n",
    "model = KNeighborsClassifier(n_neighbors=5)\n",
    "model.fit(X_train_scaled, y_train)\n",
    "\n",
    "# Prediksi\n",
    "y_pred = model.predict(X_test_scaled)\n",
    "\n",
    "# Simpan model dan scaler\n",
    "pickle.dump(model, open(\"knn_model_diabetes.pkl\", \"wb\"))\n",
    "pickle.dump(scaler, open(\"scaler_diabetes.pkl\", \"wb\"))\n",
    "pickle.dump(X_test_scaled, open(\"X_test_diabetes.pkl\", \"wb\"))\n",
    "pickle.dump(y_test, open(\"Y_test_diabetes.pkl\", \"wb\"))\n",
    "\n",
    "# Simpan metrik evaluasi\n",
    "report = classification_report(y_test, y_pred, output_dict=True)\n",
    "conf_matrix = confusion_matrix(y_test, y_pred)\n",
    "\n",
    "pickle.dump(report, open(\"classification_report.pkl\", \"wb\"))\n",
    "pickle.dump(conf_matrix, open(\"confusion_matrix.pkl\", \"wb\"))\n",
    "\n",
    "print(\"✅ Model dan evaluasi berhasil disimpan.\")\n"
   ]
  }
 ],
 "metadata": {
  "kernelspec": {
   "display_name": "Python 3",
   "language": "python",
   "name": "python3"
  },
  "language_info": {
   "codemirror_mode": {
    "name": "ipython",
    "version": 3
   },
   "file_extension": ".py",
   "mimetype": "text/x-python",
   "name": "python",
   "nbconvert_exporter": "python",
   "pygments_lexer": "ipython3",
   "version": "3.13.3"
  }
 },
 "nbformat": 4,
 "nbformat_minor": 5
}
